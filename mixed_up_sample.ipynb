{
 "cells": [
  {
   "cell_type": "code",
   "execution_count": 367,
   "metadata": {},
   "outputs": [],
   "source": [
    "# Compare Iris and wine datasets with mixed_up\n",
    "\n",
    "from sklearn.datasets import load_wine\n",
    "from sklearn.model_selection import train_test_split\n",
    "from sklearn.neighbors import KNeighborsClassifier,KNeighborsRegressor\n",
    "\n",
    "import pandas as pd\n",
    "import numpy as np\n",
    "from sklearn.metrics import accuracy_score\n",
    "from sklearn.datasets import load_breast_cancer\n",
    "from sklearn.metrics import roc_auc_score\n",
    "%matplotlib inline"
   ]
  },
  {
   "cell_type": "code",
   "execution_count": 368,
   "metadata": {},
   "outputs": [],
   "source": [
    "iris = load_iris()\n",
    "X, y = iris.data, iris.target"
   ]
  },
  {
   "cell_type": "code",
   "execution_count": 369,
   "metadata": {},
   "outputs": [],
   "source": [
    "n_labels = len(np.unique(y))  \n",
    "y_ = np.eye(n_labels)[y]"
   ]
  },
  {
   "cell_type": "code",
   "execution_count": 370,
   "metadata": {},
   "outputs": [],
   "source": [
    "X_train, X_test, y_train, y_test = train_test_split(X, y_, random_state=0)"
   ]
  },
  {
   "cell_type": "code",
   "execution_count": 371,
   "metadata": {},
   "outputs": [
    {
     "data": {
      "text/plain": [
       "KNeighborsClassifier(algorithm='auto', leaf_size=30, metric='minkowski',\n",
       "           metric_params=None, n_jobs=1, n_neighbors=3, p=2,\n",
       "           weights='uniform')"
      ]
     },
     "execution_count": 371,
     "metadata": {},
     "output_type": "execute_result"
    }
   ],
   "source": [
    "knn = KNeighborsClassifier(n_neighbors=3)\n",
    "knn.fit(X_train, y_train)"
   ]
  },
  {
   "cell_type": "code",
   "execution_count": 373,
   "metadata": {},
   "outputs": [
    {
     "name": "stdout",
     "output_type": "stream",
     "text": [
      "Test Accuracy:  0.9642857142857143\n"
     ]
    }
   ],
   "source": [
    "actual = y_test\n",
    "pred = knn.predict(X_test)\n",
    "\n",
    "pred_train = knn.predict(X_train)\n",
    "accuracy = accuracy_score(y_train, pred_train)\n",
    "print('Test Accuracy: ', accuracy)"
   ]
  },
  {
   "cell_type": "code",
   "execution_count": 375,
   "metadata": {},
   "outputs": [],
   "source": [
    "sample_num = len(X_train)\n",
    "indexes = np.arange(sample_num)\n",
    "itr_num = int(len(indexes)/2)\n",
    "\n",
    "X_tmp = []\n",
    "y_tmp = []\n",
    "\n",
    "for k in range(2):\n",
    "    np.random.shuffle(indexes)\n",
    "    for i in range(itr_num):\n",
    "        batch_ids = indexes[i :(i + 2) ]\n",
    "        l = np.random.beta(0.2, 0.2, 1)\n",
    "        X1 = X_train[batch_ids[:1]]\n",
    "        X2 = X_train[batch_ids[1:]]\n",
    "        X = X1 * X_l + X2 * (1 - l)\n",
    "        \n",
    "        X_tmp.append(X)\n",
    "        y1 = y_train[batch_ids[:1]]\n",
    "        y2 = y_train[batch_ids[1:]]\n",
    "        y = y1 * y_l + y2 * (1 - l)\n",
    "        y_tmp.append(y)\n"
   ]
  },
  {
   "cell_type": "code",
   "execution_count": 376,
   "metadata": {},
   "outputs": [],
   "source": [
    "X_tmp = np.asarray(X_tmp)\n",
    "X_tmp = X_tmp.ravel().reshape(len(X_train),4)"
   ]
  },
  {
   "cell_type": "code",
   "execution_count": 377,
   "metadata": {},
   "outputs": [],
   "source": [
    "y_tmp = np.asarray(y_tmp)\n",
    "y_tmp = y_tmp.reshape(len(X_train),-1)"
   ]
  },
  {
   "cell_type": "code",
   "execution_count": 378,
   "metadata": {},
   "outputs": [
    {
     "data": {
      "text/plain": [
       "KNeighborsRegressor(algorithm='auto', leaf_size=30, metric='minkowski',\n",
       "          metric_params=None, n_jobs=1, n_neighbors=3, p=2,\n",
       "          weights='uniform')"
      ]
     },
     "execution_count": 378,
     "metadata": {},
     "output_type": "execute_result"
    }
   ],
   "source": [
    "knn_r = KNeighborsRegressor(n_neighbors=3)\n",
    "knn_r.fit(X_tmp, y_tmp)"
   ]
  },
  {
   "cell_type": "code",
   "execution_count": 381,
   "metadata": {},
   "outputs": [
    {
     "name": "stdout",
     "output_type": "stream",
     "text": [
      "Test Accuracy:  0.9210526315789473\n"
     ]
    }
   ],
   "source": [
    "# prediction\n",
    "actual = y_test\n",
    "pred = knn_r.predict(X_test)\n",
    "\n",
    "# accuracy train acc vs test acc\n",
    "accuracy = np.sum(np.argmax(pred,axis=1) == np.argmax(actual,axis=1))/len(actual)\n",
    "print('Test Accuracy: ', accuracy)\n"
   ]
  },
  {
   "cell_type": "code",
   "execution_count": 382,
   "metadata": {},
   "outputs": [],
   "source": [
    "data = load_wine()"
   ]
  },
  {
   "cell_type": "code",
   "execution_count": 383,
   "metadata": {},
   "outputs": [],
   "source": [
    "X, y = data.data, data.target\n",
    "n_labels = len(np.unique(y))  \n",
    "y_ = np.eye(n_labels)[y]   \n",
    "X_train, X_test, y_train, y_test = train_test_split(X, y_, random_state=0)"
   ]
  },
  {
   "cell_type": "code",
   "execution_count": 384,
   "metadata": {},
   "outputs": [
    {
     "data": {
      "text/plain": [
       "KNeighborsClassifier(algorithm='auto', leaf_size=30, metric='minkowski',\n",
       "           metric_params=None, n_jobs=1, n_neighbors=50, p=2,\n",
       "           weights='uniform')"
      ]
     },
     "execution_count": 384,
     "metadata": {},
     "output_type": "execute_result"
    }
   ],
   "source": [
    "knn = KNeighborsClassifier(n_neighbors=50)\n",
    "knn.fit(X_train, y_train)"
   ]
  },
  {
   "cell_type": "code",
   "execution_count": 385,
   "metadata": {},
   "outputs": [
    {
     "name": "stdout",
     "output_type": "stream",
     "text": [
      "Train Accuracy:  0.6666666666666666\n"
     ]
    }
   ],
   "source": [
    "# 予測\n",
    "actual = y_test\n",
    "pred = knn.predict(X_test)\n",
    "\n",
    "pred_train = knn.predict(X_train)\n",
    "accuracy = accuracy_score(y_train, pred_train)\n",
    "print('Test Accuracy: ', accuracy)"
   ]
  },
  {
   "cell_type": "code",
   "execution_count": 386,
   "metadata": {},
   "outputs": [],
   "source": [
    "sample_num = len(X_train)\n",
    "indexes = np.arange(sample_num)\n",
    "itr_num = int(len(indexes)/2)\n",
    "\n",
    "X_tmp = []\n",
    "y_tmp = []\n",
    "\n",
    "for k in range(2):\n",
    "    np.random.shuffle(indexes)\n",
    "    for i in range(itr_num):\n",
    "        batch_ids = indexes[i :(i + 2)]\n",
    "        l = np.random.beta(0.0001, 0.1, 1)\n",
    "        X1 = X_train[batch_ids[:1]]\n",
    "        X2 = X_train[batch_ids[1:]]\n",
    "        X = X1 * X_l + X2 * (1 - l)\n",
    "        \n",
    "        X_tmp.append(X)\n",
    "        y1 = y_train[batch_ids[:1]]\n",
    "        y2 = y_train[batch_ids[1:]]\n",
    "        y = y1 * y_l + y2 * (1 - l)\n",
    "        y_tmp.append(y)"
   ]
  },
  {
   "cell_type": "code",
   "execution_count": 388,
   "metadata": {},
   "outputs": [],
   "source": [
    "X_tmp = np.asarray(X_tmp)\n",
    "X_tmp = X_tmp.ravel().reshape(len(X_train)-1,13)"
   ]
  },
  {
   "cell_type": "code",
   "execution_count": 389,
   "metadata": {},
   "outputs": [],
   "source": [
    "y_tmp = np.asarray(y_tmp)\n",
    "y_tmp = y_tmp.reshape(len(X_train)-1,-1)"
   ]
  },
  {
   "cell_type": "code",
   "execution_count": 390,
   "metadata": {},
   "outputs": [
    {
     "data": {
      "text/plain": [
       "KNeighborsRegressor(algorithm='auto', leaf_size=30, metric='minkowski',\n",
       "          metric_params=None, n_jobs=1, n_neighbors=50, p=2,\n",
       "          weights='uniform')"
      ]
     },
     "execution_count": 390,
     "metadata": {},
     "output_type": "execute_result"
    }
   ],
   "source": [
    "knn_r = KNeighborsRegressor(n_neighbors=50)\n",
    "knn_r.fit(X_tmp, y_tmp)"
   ]
  },
  {
   "cell_type": "code",
   "execution_count": 391,
   "metadata": {},
   "outputs": [
    {
     "name": "stdout",
     "output_type": "stream",
     "text": [
      "Test Accuracy:  0.7333333333333333\n"
     ]
    }
   ],
   "source": [
    "# prediction\n",
    "actual = y_test\n",
    "pred = knn_r.predict(X_test)\n",
    "\n",
    "# accuracy train acc vs test acc\n",
    "accuracy = np.sum(np.argmax(pred,axis=1) == np.argmax(actual,axis=1))/len(actual)\n",
    "print('Test Accuracy: ', accuracy)"
   ]
  }
 ],
 "metadata": {
  "kernelspec": {
   "display_name": "Python 3",
   "language": "python",
   "name": "python3"
  },
  "language_info": {
   "codemirror_mode": {
    "name": "ipython",
    "version": 3
   },
   "file_extension": ".py",
   "mimetype": "text/x-python",
   "name": "python",
   "nbconvert_exporter": "python",
   "pygments_lexer": "ipython3",
   "version": "3.6.4"
  }
 },
 "nbformat": 4,
 "nbformat_minor": 2
}
